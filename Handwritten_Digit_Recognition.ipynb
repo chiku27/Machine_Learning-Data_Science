{
  "nbformat": 4,
  "nbformat_minor": 0,
  "metadata": {
    "colab": {
      "name": "Handwritten_Digit_Recognition.ipynb",
      "provenance": [],
      "collapsed_sections": [],
      "authorship_tag": "ABX9TyOPn7hHfKiaoXex2gVQltef",
      "include_colab_link": true
    },
    "kernelspec": {
      "name": "python3",
      "display_name": "Python 3"
    }
  },
  "cells": [
    {
      "cell_type": "markdown",
      "metadata": {
        "id": "view-in-github",
        "colab_type": "text"
      },
      "source": [
        "<a href=\"https://colab.research.google.com/github/chiku27/Machine_Learning-Data_Science/blob/master/Handwritten_Digit_Recognition.ipynb\" target=\"_parent\"><img src=\"https://colab.research.google.com/assets/colab-badge.svg\" alt=\"Open In Colab\"/></a>"
      ]
    },
    {
      "cell_type": "code",
      "metadata": {
        "id": "viuQijKoegCi"
      },
      "source": [
        "import numpy as np\n",
        "import pandas as pd\n",
        "import matplotlib.pyplot as plt\n",
        "import seaborn as sns\n"
      ],
      "execution_count": 1,
      "outputs": []
    },
    {
      "cell_type": "code",
      "metadata": {
        "id": "lcF39OGEfQ-v",
        "outputId": "2450d90a-258c-4c8a-aa75-4d35cdb38c0b",
        "colab": {
          "base_uri": "https://localhost:8080/",
          "height": 33
        }
      },
      "source": [
        "from sklearn import datasets\n",
        "df_1=datasets.load_digits()\n",
        "dir(df_1)"
      ],
      "execution_count": 2,
      "outputs": [
        {
          "output_type": "execute_result",
          "data": {
            "text/plain": [
              "['DESCR', 'data', 'images', 'target', 'target_names']"
            ]
          },
          "metadata": {
            "tags": []
          },
          "execution_count": 2
        }
      ]
    },
    {
      "cell_type": "code",
      "metadata": {
        "id": "bwn1AH0ZDGr9",
        "outputId": "1e88a60e-8531-4727-8801-3a8c00eeffbe",
        "colab": {
          "base_uri": "https://localhost:8080/",
          "height": 33
        }
      },
      "source": [
        "print('Size of the dataset',len(df_1.target))"
      ],
      "execution_count": 3,
      "outputs": [
        {
          "output_type": "stream",
          "text": [
            "Size of the dataset 1797\n"
          ],
          "name": "stdout"
        }
      ]
    },
    {
      "cell_type": "code",
      "metadata": {
        "id": "MWniH_5ZTPyv",
        "outputId": "16daeb4c-50e2-4d40-849b-1bf195c38360",
        "colab": {
          "base_uri": "https://localhost:8080/",
          "height": 33
        }
      },
      "source": [
        "df_1.target"
      ],
      "execution_count": 4,
      "outputs": [
        {
          "output_type": "execute_result",
          "data": {
            "text/plain": [
              "array([0, 1, 2, ..., 8, 9, 8])"
            ]
          },
          "metadata": {
            "tags": []
          },
          "execution_count": 4
        }
      ]
    },
    {
      "cell_type": "code",
      "metadata": {
        "id": "AJuL9CoKS6Ro",
        "outputId": "f5325a88-8690-404b-ff14-02455ef6747d",
        "colab": {
          "base_uri": "https://localhost:8080/",
          "height": 608
        }
      },
      "source": [
        "#Let's check out some random images\n",
        "fig,axes=plt.subplots(2,2,figsize=(15,10))\n",
        "axes[0,0].imshow(df_1.images[20],cmap=plt.cm.gray_r)\n",
        "axes[0,1].imshow(df_1.images[35],cmap=plt.cm.gray_r)\n",
        "axes[1,0].imshow(df_1.images[40],cmap=plt.cm.gray_r)\n",
        "axes[1,1].imshow(df_1.images[50],cmap=plt.cm.gray_r)\n"
      ],
      "execution_count": 5,
      "outputs": [
        {
          "output_type": "execute_result",
          "data": {
            "text/plain": [
              "<matplotlib.image.AxesImage at 0x7f99f78eae48>"
            ]
          },
          "metadata": {
            "tags": []
          },
          "execution_count": 5
        },
        {
          "output_type": "display_data",
          "data": {
            "image/png": "[encoded data removed]",
            "text/plain": [
              "<Figure size 1080x720 with 4 Axes>"
            ]
          },
          "metadata": {
            "tags": [],
            "needs_background": "light"
          }
        }
      ]
    },
    {
      "cell_type": "markdown",
      "metadata": {
        "id": "g4eULZH4quva"
      },
      "source": [
        "Now let's split the dataset 70 percent for training and 30 percent for testing i.e 1257 data-points for training and 540 for testing and apply Random Forest Classifier."
      ]
    },
    {
      "cell_type": "markdown",
      "metadata": {
        "id": "njZXWkZorXZ_"
      },
      "source": [
        "For parameter optimization i.e choosing out best parameters apply GridSearch."
      ]
    },
    {
      "cell_type": "code",
      "metadata": {
        "id": "o-lSlyyv1sNw",
        "outputId": "6b4a726d-d05f-49d1-dc4d-f2e06fd72932",
        "colab": {
          "base_uri": "https://localhost:8080/",
          "height": 212
        }
      },
      "source": [
        "from sklearn.svm import SVC\n",
        "mod=SVC()\n",
        "from sklearn.model_selection import GridSearchCV\n",
        "mod1=GridSearchCV(mod,param_grid={'kernel':['rbf','linear','poly'],'C':[0.4,0.6,0.8,1]},cv=5)\n",
        "mod1.fit(df_1.data[1:1257],df_1.target[1:1257])"
      ],
      "execution_count": 6,
      "outputs": [
        {
          "output_type": "execute_result",
          "data": {
            "text/plain": [
              "GridSearchCV(cv=5, error_score=nan,\n",
              "             estimator=SVC(C=1.0, break_ties=False, cache_size=200,\n",
              "                           class_weight=None, coef0=0.0,\n",
              "                           decision_function_shape='ovr', degree=3,\n",
              "                           gamma='scale', kernel='rbf', max_iter=-1,\n",
              "                           probability=False, random_state=None, shrinking=True,\n",
              "                           tol=0.001, verbose=False),\n",
              "             iid='deprecated', n_jobs=None,\n",
              "             param_grid={'C': [0.4, 0.6, 0.8, 1],\n",
              "                         'kernel': ['rbf', 'linear', 'poly']},\n",
              "             pre_dispatch='2*n_jobs', refit=True, return_train_score=False,\n",
              "             scoring=None, verbose=0)"
            ]
          },
          "metadata": {
            "tags": []
          },
          "execution_count": 6
        }
      ]
    },
    {
      "cell_type": "code",
      "metadata": {
        "id": "BWZk_Ds9yV4a",
        "outputId": "6309820c-8f41-45cb-a951-d0590a99e9f9",
        "colab": {
          "base_uri": "https://localhost:8080/",
          "height": 33
        }
      },
      "source": [
        "mod1.best_params_"
      ],
      "execution_count": 7,
      "outputs": [
        {
          "output_type": "execute_result",
          "data": {
            "text/plain": [
              "{'C': 0.8, 'kernel': 'poly'}"
            ]
          },
          "metadata": {
            "tags": []
          },
          "execution_count": 7
        }
      ]
    },
    {
      "cell_type": "markdown",
      "metadata": {
        "id": "5LU6gvVwycZ9"
      },
      "source": [
        "So from GridSearch we got best parameters then we are now going to train the model with these parameters"
      ]
    },
    {
      "cell_type": "code",
      "metadata": {
        "id": "zS3AK_hRy5D1",
        "outputId": "97f2a57e-8b4a-4986-ffe3-9e020abe8c01",
        "colab": {
          "base_uri": "https://localhost:8080/",
          "height": 82
        }
      },
      "source": [
        "mod2=SVC(kernel='poly',C=0.8)\n",
        "mod2.fit(df_1.data[1:1257],df_1.target[1:1257])"
      ],
      "execution_count": 8,
      "outputs": [
        {
          "output_type": "execute_result",
          "data": {
            "text/plain": [
              "SVC(C=0.8, break_ties=False, cache_size=200, class_weight=None, coef0=0.0,\n",
              "    decision_function_shape='ovr', degree=3, gamma='scale', kernel='poly',\n",
              "    max_iter=-1, probability=False, random_state=None, shrinking=True,\n",
              "    tol=0.001, verbose=False)"
            ]
          },
          "metadata": {
            "tags": []
          },
          "execution_count": 8
        }
      ]
    },
    {
      "cell_type": "code",
      "metadata": {
        "id": "couT2Ta_zSU-",
        "outputId": "2fef5d22-447b-459e-acd1-5ead48a9e1ed",
        "colab": {
          "base_uri": "https://localhost:8080/",
          "height": 281
        }
      },
      "source": [
        "y_pred=mod2.predict(df_1.data[1257:1797])\n",
        "y_true=df_1.target[1257:1797]\n",
        "from sklearn.metrics import confusion_matrix\n",
        "cm=confusion_matrix(y_true,y_pred)\n",
        "sns.heatmap(cm,annot=True)"
      ],
      "execution_count": 9,
      "outputs": [
        {
          "output_type": "execute_result",
          "data": {
            "text/plain": [
              "<matplotlib.axes._subplots.AxesSubplot at 0x7f99f56f87b8>"
            ]
          },
          "metadata": {
            "tags": []
          },
          "execution_count": 9
        },
        {
          "output_type": "display_data",
          "data": {
            "image/png": "[encoded data removed]",
            "text/plain": [
              "<Figure size 432x288 with 2 Axes>"
            ]
          },
          "metadata": {
            "tags": [],
            "needs_background": "light"
          }
        }
      ]
    },
    {
      "cell_type": "code",
      "metadata": {
        "id": "Zhzl9Km60k99",
        "outputId": "7cd4a540-4b9d-4641-d721-e23116095daa",
        "colab": {
          "base_uri": "https://localhost:8080/",
          "height": 50
        }
      },
      "source": [
        "#Now let's chcek out accuracy\n",
        "print('Test set score is\\n',mod2.score(df_1.data[1257:1797],df_1.target[1257:1797]))"
      ],
      "execution_count": 10,
      "outputs": [
        {
          "output_type": "stream",
          "text": [
            "Test set score is\n",
            " 0.9518518518518518\n"
          ],
          "name": "stdout"
        }
      ]
    },
    {
      "cell_type": "markdown",
      "metadata": {
        "id": "4bh9yDIC4AdB"
      },
      "source": [
        "So we got accuracy greater than 95 percent.\n",
        "Here we have to test the hypothesis that whether the accuracy is greater than 95 % everytime or not.\n",
        "So Ho:Null Hypothesis(Accuracy greater than 95 %)\n",
        "Ha|:Alternate Hypothesis(Accuracy is not greater than 95 %)\n"
      ]
    },
    {
      "cell_type": "markdown",
      "metadata": {
        "id": "xFz7nuaE41O2"
      },
      "source": [
        "To test the hypothesis let's take another classifier if for that classifier accuracy is also greater than 95 % then the null hypothesis will be accepted otherwise alternate hypothesis will be accepted."
      ]
    },
    {
      "cell_type": "code",
      "metadata": {
        "id": "UEnxUfp_hImo",
        "outputId": "24ee6091-87c0-4568-9f9b-f392ecc1a4c2",
        "colab": {
          "base_uri": "https://localhost:8080/",
          "height": 310
        }
      },
      "source": [
        "from sklearn.tree import DecisionTreeClassifier\n",
        "clf=DecisionTreeClassifier()\n",
        "clf1=GridSearchCV(clf,param_grid={'criterion':['gini','entropy'],'min_samples_leaf':[1,2,3,4,5]},cv=5)\n",
        "clf1.fit(df_1.data[1:1257],df_1.target[1:1257])\n"
      ],
      "execution_count": 25,
      "outputs": [
        {
          "output_type": "execute_result",
          "data": {
            "text/plain": [
              "GridSearchCV(cv=5, error_score=nan,\n",
              "             estimator=DecisionTreeClassifier(ccp_alpha=0.0, class_weight=None,\n",
              "                                              criterion='gini', max_depth=None,\n",
              "                                              max_features=None,\n",
              "                                              max_leaf_nodes=None,\n",
              "                                              min_impurity_decrease=0.0,\n",
              "                                              min_impurity_split=None,\n",
              "                                              min_samples_leaf=1,\n",
              "                                              min_samples_split=2,\n",
              "                                              min_weight_fraction_leaf=0.0,\n",
              "                                              presort='deprecated',\n",
              "                                              random_state=None,\n",
              "                                              splitter='best'),\n",
              "             iid='deprecated', n_jobs=None,\n",
              "             param_grid={'criterion': ['gini', 'entropy'],\n",
              "                         'min_samples_leaf': [1, 2, 3, 4, 5]},\n",
              "             pre_dispatch='2*n_jobs', refit=True, return_train_score=False,\n",
              "             scoring=None, verbose=0)"
            ]
          },
          "metadata": {
            "tags": []
          },
          "execution_count": 25
        }
      ]
    },
    {
      "cell_type": "code",
      "metadata": {
        "id": "vImAX2BskKYI",
        "outputId": "36f9cc97-b9ab-4aea-e746-485857aa654f",
        "colab": {
          "base_uri": "https://localhost:8080/",
          "height": 33
        }
      },
      "source": [
        "clf1.best_params_"
      ],
      "execution_count": 26,
      "outputs": [
        {
          "output_type": "execute_result",
          "data": {
            "text/plain": [
              "{'criterion': 'gini', 'min_samples_leaf': 1}"
            ]
          },
          "metadata": {
            "tags": []
          },
          "execution_count": 26
        }
      ]
    },
    {
      "cell_type": "code",
      "metadata": {
        "id": "1z2B5TMskNmB",
        "outputId": "d4b6651c-ee8f-4026-a880-63d5f59aca80",
        "colab": {
          "base_uri": "https://localhost:8080/",
          "height": 115
        }
      },
      "source": [
        "clf2=DecisionTreeClassifier(criterion='gini',min_samples_leaf=1)\n",
        "clf2.fit(df_1.data[1:1257],df_1.target[1:1257])"
      ],
      "execution_count": 27,
      "outputs": [
        {
          "output_type": "execute_result",
          "data": {
            "text/plain": [
              "DecisionTreeClassifier(ccp_alpha=0.0, class_weight=None, criterion='gini',\n",
              "                       max_depth=None, max_features=None, max_leaf_nodes=None,\n",
              "                       min_impurity_decrease=0.0, min_impurity_split=None,\n",
              "                       min_samples_leaf=1, min_samples_split=2,\n",
              "                       min_weight_fraction_leaf=0.0, presort='deprecated',\n",
              "                       random_state=None, splitter='best')"
            ]
          },
          "metadata": {
            "tags": []
          },
          "execution_count": 27
        }
      ]
    },
    {
      "cell_type": "code",
      "metadata": {
        "id": "XP_iiNe0kZt6",
        "outputId": "7921e6a1-fe27-4957-873d-b9874a43c268",
        "colab": {
          "base_uri": "https://localhost:8080/",
          "height": 281
        }
      },
      "source": [
        "y_pred1=clf2.predict(df_1.data[1257:1797])\n",
        "y_true=df_1.target[1257:1797]\n",
        "cm1=confusion_matrix(y_true,y_pred1)\n",
        "sns.heatmap(cm1,annot=True)"
      ],
      "execution_count": 28,
      "outputs": [
        {
          "output_type": "execute_result",
          "data": {
            "text/plain": [
              "<matplotlib.axes._subplots.AxesSubplot at 0x7f99e8b62be0>"
            ]
          },
          "metadata": {
            "tags": []
          },
          "execution_count": 28
        },
        {
          "output_type": "display_data",
          "data": {
            "image/png": "[encoded data removed]",
            "text/plain": [
              "<Figure size 432x288 with 2 Axes>"
            ]
          },
          "metadata": {
            "tags": [],
            "needs_background": "light"
          }
        }
      ]
    },
    {
      "cell_type": "code",
      "metadata": {
        "id": "bCZN6zjWkkMl",
        "outputId": "d5fb28b3-b1a6-465e-f5e9-ce802a8840ac",
        "colab": {
          "base_uri": "https://localhost:8080/",
          "height": 50
        }
      },
      "source": [
        "print('Test set score is\\n',clf2.score(df_1.data[1257:1797],df_1.target[1257:1797]))"
      ],
      "execution_count": 29,
      "outputs": [
        {
          "output_type": "stream",
          "text": [
            "Test set score is\n",
            " 0.7759259259259259\n"
          ],
          "name": "stdout"
        }
      ]
    },
    {
      "cell_type": "markdown",
      "metadata": {
        "id": "WEeF2mEamtrH"
      },
      "source": [
        "Even if we have tuned the parameters the accuracy is showing low.Let's try without tuning."
      ]
    },
    {
      "cell_type": "code",
      "metadata": {
        "id": "3h-DJxD2m5Rz",
        "outputId": "a3c1d253-1075-41ac-f795-10df23032543",
        "colab": {
          "base_uri": "https://localhost:8080/",
          "height": 115
        }
      },
      "source": [
        "clf3=DecisionTreeClassifier(criterion='entropy',min_samples_leaf=1)\n",
        "clf3.fit(df_1.data[1:1257],df_1.target[1:1257])"
      ],
      "execution_count": 30,
      "outputs": [
        {
          "output_type": "execute_result",
          "data": {
            "text/plain": [
              "DecisionTreeClassifier(ccp_alpha=0.0, class_weight=None, criterion='entropy',\n",
              "                       max_depth=None, max_features=None, max_leaf_nodes=None,\n",
              "                       min_impurity_decrease=0.0, min_impurity_split=None,\n",
              "                       min_samples_leaf=1, min_samples_split=2,\n",
              "                       min_weight_fraction_leaf=0.0, presort='deprecated',\n",
              "                       random_state=None, splitter='best')"
            ]
          },
          "metadata": {
            "tags": []
          },
          "execution_count": 30
        }
      ]
    },
    {
      "cell_type": "code",
      "metadata": {
        "id": "5gfSmhJUnEuE",
        "outputId": "fae8a5eb-c87e-4686-9a66-0ce551675e3e",
        "colab": {
          "base_uri": "https://localhost:8080/",
          "height": 50
        }
      },
      "source": [
        "print('Test set score is\\n',clf3.score(df_1.data[1257:1797],df_1.target[1257:1797]))"
      ],
      "execution_count": 31,
      "outputs": [
        {
          "output_type": "stream",
          "text": [
            "Test set score is\n",
            " 0.7981481481481482\n"
          ],
          "name": "stdout"
        }
      ]
    },
    {
      "cell_type": "markdown",
      "metadata": {
        "id": "rnhjSydKnJQu"
      },
      "source": [
        "Here also the accuracy is less than 95 percent.So the Null Hypothesis will be rejected and Alternate Hypothesis will be accepted.That means not all the time the dataset gives accuracy greater than 95% it depends upon the algorithm with which we are trying to predict as well as the parameters of that algorithm also."
      ]
    }
  ]
}